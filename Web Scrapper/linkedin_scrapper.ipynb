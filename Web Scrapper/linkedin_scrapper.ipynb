{
 "cells": [
  {
   "cell_type": "markdown",
   "id": "72c81f62-582c-4669-a69b-68de779fca7e",
   "metadata": {},
   "source": [
    "# Web Scraping LinkedIn for Lead Generation\n",
    "#### - Scraping LinkedIn Job posting to find target companies and marking growing companies as target lead.\n",
    "#### - See Hiring Trends and scrape accordingly\n",
    "\n",
    "#### Workflow\n",
    "- Using Selinium to handle scrolls\n",
    "- Using chrome driver\n",
    "- Using Beautiful Soup for parsing html\n",
    "- Storing data in csv format using pandas"
   ]
  },
  {
   "cell_type": "markdown",
   "id": "b5b5052c-fe20-4806-a34a-b1c2efcf0aff",
   "metadata": {},
   "source": [
    "## Importing Dependencies"
   ]
  },
  {
   "cell_type": "code",
   "execution_count": 2,
   "id": "f80b237d-3b33-4e16-9b8d-ef44167dc138",
   "metadata": {},
   "outputs": [],
   "source": [
    "import time\n",
    "import requests\n",
    "from bs4 import BeautifulSoup\n",
    "import pandas as pd\n",
    "import re\n",
    "from selenium import webdriver\n",
    "from selenium.webdriver.common.keys import Keys\n",
    "from selenium.webdriver.common.by import By\n",
    "from selenium.webdriver.support.ui import WebDriverWait"
   ]
  },
  {
   "cell_type": "code",
   "execution_count": 4,
   "id": "ee1563d7-3e6c-4a33-8aa7-ad29af24e765",
   "metadata": {},
   "outputs": [],
   "source": [
    "url = 'https://www.linkedin.com/jobs/search?keywords=Accountant&location=United%20States&geoId=103644278&trk=public_jobs_jobs-search-bar_search-submit&position=1&pageNum=0'\n",
    "# location - usa (requirements)\n",
    "driver = webdriver.Chrome()\n",
    "driver.get(url)"
   ]
  },
  {
   "cell_type": "code",
   "execution_count": null,
   "id": "9d59443e-77ca-469a-8ce0-782d3686d81c",
   "metadata": {},
   "outputs": [],
   "source": [
    "# scraping 100 times\n",
    "\n",
    "for i in range(100):\n",
    "    driver.execute_script('window.scrollTo(0, document.body.scrollHeight);')\n",
    "    print(f'# {i+1} executed')\n",
    "    \n",
    "    try:\n",
    "        x = driver.find_element('xpath', \"//button[@aria-label='See more jobs']\")\n",
    "        x.click()\n",
    "        time.sleep(3)\n",
    "    except:\n",
    "        pass\n",
    "        time.sleep(3)\n",
    "soupy = BeautifulSoup(driver.page_source, \"html.parser\")\n",
    "driver.quit()"
   ]
  },
  {
   "cell_type": "code",
   "execution_count": null,
   "id": "82896797-dbf1-4c96-9ca2-42091582ddf3",
   "metadata": {},
   "outputs": [],
   "source": []
  },
  {
   "cell_type": "code",
   "execution_count": null,
   "id": "04639d76-927b-44e4-a581-300753c577e5",
   "metadata": {},
   "outputs": [],
   "source": []
  },
  {
   "cell_type": "code",
   "execution_count": null,
   "id": "40f412ff-88a9-41cc-9dce-c3c2455638ac",
   "metadata": {},
   "outputs": [],
   "source": []
  },
  {
   "cell_type": "code",
   "execution_count": null,
   "id": "68656df4-4feb-46e7-a8c8-02d8c197c75d",
   "metadata": {},
   "outputs": [],
   "source": []
  },
  {
   "cell_type": "code",
   "execution_count": null,
   "id": "21a06410-8e33-4fc1-a299-b353099a58ba",
   "metadata": {},
   "outputs": [],
   "source": []
  },
  {
   "cell_type": "code",
   "execution_count": null,
   "id": "5a102685-9e87-48e4-93ac-af2318f9b9c5",
   "metadata": {},
   "outputs": [],
   "source": []
  },
  {
   "cell_type": "code",
   "execution_count": null,
   "id": "5a3bff55-1dc2-44f4-8275-2d5ff0b85c8e",
   "metadata": {},
   "outputs": [],
   "source": []
  },
  {
   "cell_type": "code",
   "execution_count": null,
   "id": "c1a1352f-0caf-42f2-936c-c7bd30dcf004",
   "metadata": {},
   "outputs": [],
   "source": []
  },
  {
   "cell_type": "code",
   "execution_count": null,
   "id": "6fe99513-a16a-48be-bd7c-b21804113d37",
   "metadata": {},
   "outputs": [],
   "source": []
  },
  {
   "cell_type": "code",
   "execution_count": null,
   "id": "f78e3436-e6dd-46b3-b7d3-4210f1936208",
   "metadata": {},
   "outputs": [],
   "source": []
  }
 ],
 "metadata": {
  "kernelspec": {
   "display_name": "Python 3 (ipykernel)",
   "language": "python",
   "name": "python3"
  },
  "language_info": {
   "codemirror_mode": {
    "name": "ipython",
    "version": 3
   },
   "file_extension": ".py",
   "mimetype": "text/x-python",
   "name": "python",
   "nbconvert_exporter": "python",
   "pygments_lexer": "ipython3",
   "version": "3.11.0"
  }
 },
 "nbformat": 4,
 "nbformat_minor": 5
}
