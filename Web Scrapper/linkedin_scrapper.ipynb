{
 "cells": [
  {
   "cell_type": "markdown",
   "id": "72c81f62-582c-4669-a69b-68de779fca7e",
   "metadata": {},
   "source": [
    "# Web Scraping LinkedIn for Lead Generation\n",
    "#### - Scraping LinkedIn Job posting to find target companies and marking growing companies as target lead.\n",
    "#### - See Hiring Trends and scrape accordingly\n",
    "\n",
    "#### Workflow\n",
    "- Using Selinium to handle scrolls\n",
    "- Using chrome driver\n",
    "- Using Beautiful Soup for parsing html\n",
    "- Storing data in csv format using pandas"
   ]
  },
  {
   "cell_type": "code",
   "execution_count": null,
   "id": "f80b237d-3b33-4e16-9b8d-ef44167dc138",
   "metadata": {},
   "outputs": [],
   "source": []
  },
  {
   "cell_type": "code",
   "execution_count": null,
   "id": "2640567f-5167-45e7-a538-305dcf4c2c9e",
   "metadata": {},
   "outputs": [],
   "source": []
  }
 ],
 "metadata": {
  "kernelspec": {
   "display_name": "Python 3 (ipykernel)",
   "language": "python",
   "name": "python3"
  },
  "language_info": {
   "codemirror_mode": {
    "name": "ipython",
    "version": 3
   },
   "file_extension": ".py",
   "mimetype": "text/x-python",
   "name": "python",
   "nbconvert_exporter": "python",
   "pygments_lexer": "ipython3",
   "version": "3.11.0"
  }
 },
 "nbformat": 4,
 "nbformat_minor": 5
}
